{
 "cells": [
  {
   "cell_type": "raw",
   "id": "a7d29ce9",
   "metadata": {
    "vscode": {
     "languageId": "raw"
    }
   },
   "source": [
    "---\n",
    "layout: post\n",
    "toc: true\n",
    "title: HW & Hacks - Variables and Data Types \n",
    "permalink: /variables/hw\n",
    "author: Avika Prasad\n",
    "---"
   ]
  },
  {
   "cell_type": "markdown",
   "id": "d763daad",
   "metadata": {},
   "source": [
    "## Popcorn Hack #1\n",
    "\n",
    "Make variables for your favorite things:\n",
    "\n",
    "Your favorite food (text)\n",
    "Your age (whole number)\n",
    "Your height in feet (decimal)\n",
    "Do you like pizza? (True/False)\n",
    "First letter of your favorite color\n",
    "Your birth year (this never changes… what type of variable will you make it??)"
   ]
  },
  {
   "cell_type": "code",
   "execution_count": null,
   "id": "468e68ab",
   "metadata": {},
   "outputs": [],
   "source": [
    "String favfood = \"alfredo pasta\";\n",
    "int age = 16;\n",
    "double height = 5.55;\n",
    "boolean likesPizza = true;\n",
    "char favColorFirstLetter = 'b';\n",
    "final int birthYear = 2009;"
   ]
  },
  {
   "cell_type": "markdown",
   "id": "9561879f",
   "metadata": {},
   "source": [
    "## Popcorn Hack #2\n",
    "\n",
    "What type should you use for each of these?\n",
    "\n",
    "Number of siblings\n",
    "- int\n",
    "Your first name\n",
    "- string\n",
    "Are you hungry?\n",
    "- boolean\n",
    "Your favorite letter\n",
    "- char\n",
    "Your height in inches\n",
    "- float\n",
    "Number of days in a year (never changes)\n",
    "- final"
   ]
  },
  {
   "cell_type": "markdown",
   "id": "8545c1ce",
   "metadata": {},
   "source": [
    "## Homework Hack\n",
    "\n",
    "Make a program that calculates a student’s grade:\n",
    "\n",
    "What you need to store:\n",
    "- Student’s name (make this final)\n",
    "Three test scores (whole numbers 0-100)\n",
    "- The class name (make this final)\n",
    "What to calculate:\n",
    "- Average of the three test scores\n",
    "- Show what letter grade they earned"
   ]
  },
  {
   "cell_type": "code",
   "execution_count": 4,
   "id": "dfc50bd7",
   "metadata": {},
   "outputs": [
    {
     "name": "stdout",
     "output_type": "stream",
     "text": [
      "A\n"
     ]
    }
   ],
   "source": [
    "final String STUDENT_NAME = \"Avika Prasad\";\n",
    "int testScore1 = 75;\n",
    "int testScore2 = 100;\n",
    "int testScore3 = 98;\n",
    "double averageScore = (testScore1 + testScore2 + testScore3) /3.0;\n",
    "\n",
    "if (averageScore >= 90) {\n",
    "    System.out.println(\"A\");\n",
    "} else if (averageScore >= 80) {\n",
    "    System.out.println(\"B\");\n",
    "} else if (averageScore >= 70) {\n",
    "    System.out.println(\"C\");\n",
    "} else if (averageScore >= 60) {\n",
    "    System.out.println(\"D\");\n",
    "} else {\n",
    "    System.out.println(\"F\");\n",
    "}"
   ]
  }
 ],
 "metadata": {
  "kernelspec": {
   "display_name": "Java",
   "language": "java",
   "name": "java"
  },
  "language_info": {
   "codemirror_mode": "java",
   "file_extension": ".jshell",
   "mimetype": "text/x-java-source",
   "name": "java",
   "pygments_lexer": "java",
   "version": "17.0.16+0"
  }
 },
 "nbformat": 4,
 "nbformat_minor": 5
}
