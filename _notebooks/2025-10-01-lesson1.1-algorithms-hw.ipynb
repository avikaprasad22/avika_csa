{
 "cells": [
  {
   "cell_type": "raw",
   "id": "3ee82317",
   "metadata": {
    "vscode": {
     "languageId": "raw"
    }
   },
   "source": [
    "---\n",
    "layout: post\n",
    "toc: true\n",
    "title: HW & Hacks - Introduction to Algorithms, Programming, and Compilers \n",
    "permalink: /algorithms/hw\n",
    "author: Avika Prasad\n",
    "---"
   ]
  },
  {
   "cell_type": "markdown",
   "id": "3dfc482c",
   "metadata": {
    "vscode": {
     "languageId": "java"
    }
   },
   "source": [
    "## Homework Hacks\n",
    "\n",
    "### Hack 1: Create Your Own Algorithm\n",
    "\n",
    "- Write a detailed algorithm for getting ready for basketball.\n",
    "\n",
    "1. Confirm the exact start time, venue, and when you need to leave to arrive at least 30–45 minutes early.\n",
    "2. Place essentials in your bag: uniform (jersey, shorts), basketball shoes, socks, water bottle, towel, and any protective gear (knee pads, ankle braces, etc.).\n",
    "3. Eat a balanced meal 2–3 hours before the game (protein, carbs, fruits, and water) to ensure steady energy.\n",
    "4. Drink water or a sports drink in the hours leading up to the game, avoiding sugary sodas or energy drinks.\n",
    "5. Put on your uniform and warm-up gear (like sweatpants and a hoodie) to stay loose and ready before the game.\n",
    "6. Perform mobility stretches (leg swings, arm circles, hip rotations) to activate muscles and reduce injury risk.\n",
    "7. Leave with enough time to arrive early, allowing for check-in, warm-ups, and mental preparation.\n",
    "8. Jog lightly, stretch dynamically, practice layups, take some jump shots, and run defensive slides to get into game rhythm.\n",
    "9. Review team strategies, visualize positive plays, and focus on staying calm, confident, and ready to contribute."
   ]
  },
  {
   "cell_type": "markdown",
   "id": "9317cded",
   "metadata": {},
   "source": [
    "### Hack 2: Identify the Bug\n",
    "\n",
    "This algorithm has steps in the wrong order. Fix it:\n",
    "\n",
    "Algorithm: Send an Email\n",
    "\n",
    "1. Click \"Send\"\n",
    "2. Open email application\n",
    "3. Type the message\n",
    "4. Log into your account\n",
    "5. Enter recipient's email address\n",
    "6. Write subject line\n",
    "\n",
    "<b>Corrected Algorithm: Send an Email</b>\n",
    "\n",
    "1. Open email application\n",
    "2. Log into your account\n",
    "3. Enter recipient's email address\n",
    "4. Write subject line\n",
    "5. Type the message\n",
    "6. Click \"Send\""
   ]
  },
  {
   "cell_type": "markdown",
   "id": "f6e9762b",
   "metadata": {},
   "source": [
    "### Hack 3: Code the Algorithm\n",
    "\n",
    "Convert this algorithm into working Python code:\n",
    "\n",
    "Algorithm: Grade Calculator\n",
    "\n",
    "1. Get three test scores from user\n",
    "2. Add them together\n",
    "3. Divide by 3 to get average\n",
    "4. If average >= 90, grade is A\n",
    "5. If average >= 80, grade is B\n",
    "6. If average >= 70, grade is C\n",
    "7. If average >= 60, grade is D\n",
    "8. Otherwise, grade is F\n",
    "9. Display the grade"
   ]
  },
  {
   "cell_type": "code",
   "execution_count": 6,
   "id": "abecb118",
   "metadata": {},
   "outputs": [
    {
     "name": "stdout",
     "output_type": "stream",
     "text": [
      "Your grade will be B\n"
     ]
    }
   ],
   "source": [
    "assignment_grades = input(\"Enter assignment grades separated by spaces: \")\n",
    "\n",
    "# Inputs were 90 80 70\n",
    "\n",
    "assignment_grades = [float(grade) for grade in assignment_grades.split()]\n",
    "\n",
    "average_of_assignments = sum(assignment_grades)/3\n",
    "\n",
    "if average_of_assignments >= 90:\n",
    "        grade = 'A'\n",
    "elif average_of_assignments >= 80:\n",
    "        grade = 'B'\n",
    "elif average_of_assignments >= 70:\n",
    "        grade = 'C'\n",
    "elif average_of_assignments >= 60:\n",
    "        grade = 'D'\n",
    "else:\n",
    "        grade = 'F'\n",
    "\n",
    "print(\"Your grade will be \" + grade)"
   ]
  }
 ],
 "metadata": {
  "kernelspec": {
   "display_name": "venv",
   "language": "python",
   "name": "python3"
  },
  "language_info": {
   "codemirror_mode": {
    "name": "ipython",
    "version": 3
   },
   "file_extension": ".py",
   "mimetype": "text/x-python",
   "name": "python",
   "nbconvert_exporter": "python",
   "pygments_lexer": "ipython3",
   "version": "3.12.7"
  }
 },
 "nbformat": 4,
 "nbformat_minor": 5
}
